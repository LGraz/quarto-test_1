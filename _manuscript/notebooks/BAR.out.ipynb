{
 "cells": [
  {
   "cell_type": "markdown",
   "metadata": {},
   "source": [
    "# Cars Plot\n",
    "\n",
    "Lukas Graz  \n",
    "October 16, 2024\n",
    "\n",
    "# Bonus 1\n",
    "\n",
    "run this document via `quarto render notebooks/BAR.qmd` and see that it is **NOT** the project root (c.f. `execute-dir: project` in `_quarto.yml`)"
   ],
   "id": "e35f6a51-0970-4814-a4b2-51ce4c3274b1"
  },
  {
   "cell_type": "code",
   "execution_count": null,
   "metadata": {},
   "outputs": [
    {
     "output_type": "stream",
     "name": "stdout",
     "text": [
      "[1] \"/home/lukas/Work/quarto-test_1\""
     ]
    }
   ],
   "source": [
    "getwd()\n"
   ],
   "id": "da5d7f8e-474a-47d2-b8e4-87b5a75e9771"
  },
  {
   "cell_type": "markdown",
   "metadata": {},
   "source": [
    "# Bonus 2\n",
    "\n",
    "uncomment this and paths screq up"
   ],
   "id": "304a1a06-aaf7-427e-b545-9fd7964aed0b"
  },
  {
   "cell_type": "code",
   "execution_count": null,
   "metadata": {},
   "outputs": [],
   "source": [
    "# library(qreport)\n",
    "# library(ggplot2)\n",
    "# qreport::maketabs(\n",
    "#   list(\n",
    "#     ggplot(cars, aes(x = speed, y = dist)) + geom_point(),\n",
    "#     ggplot(cars, aes(x = speed, y = dist)) + geom_jitter()\n",
    "# ))\n"
   ],
   "id": "3a5c5524-7a8e-4f15-ae2e-9698fb9dd5ea"
  }
 ],
 "nbformat": 4,
 "nbformat_minor": 5,
 "metadata": {}
}
