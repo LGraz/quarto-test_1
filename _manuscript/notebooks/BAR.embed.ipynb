{
 "cells": [
  {
   "cell_type": "markdown",
   "metadata": {},
   "source": [
    "# Cars Plot\n",
    "\n",
    "Lukas Graz  \n",
    "October 16, 2024\n",
    "\n",
    "# Bonus 1\n",
    "\n",
    "run this document via `quarto render notebooks/BAR.qmd` and see that it is **NOT** the project root (c.f. `execute-dir: project` in `_quarto.yml`)"
   ],
   "id": "7e710c5f-d3e8-46c4-94ab-ac2ca085d67b"
  },
  {
   "cell_type": "code",
   "execution_count": null,
   "metadata": {},
   "outputs": [
    {
     "output_type": "stream",
     "name": "stdout",
     "text": [
      "[1] \"/home/lukas/Work/quarto-test_1\""
     ]
    }
   ],
   "source": [
    "getwd()"
   ],
   "id": "68918838-f87d-43cc-9ae9-318924bdbf99"
  },
  {
   "cell_type": "markdown",
   "metadata": {},
   "source": [
    "# Bonus 2\n",
    "\n",
    "uncomment this and paths screq up"
   ],
   "id": "757d5446-30a9-45f0-b7f2-db88f303fc1b"
  },
  {
   "cell_type": "code",
   "execution_count": null,
   "metadata": {},
   "outputs": [],
   "source": [
    "# library(qreport)\n",
    "# library(ggplot2)\n",
    "# qreport::maketabs(\n",
    "#   list(\n",
    "#     ggplot(cars, aes(x = speed, y = dist)) + geom_point(),\n",
    "#     ggplot(cars, aes(x = speed, y = dist)) + geom_jitter()\n",
    "# ))"
   ],
   "id": "81375e6f-33f3-497a-94b3-8a857088831f"
  }
 ],
 "nbformat": 4,
 "nbformat_minor": 5,
 "metadata": {}
}
